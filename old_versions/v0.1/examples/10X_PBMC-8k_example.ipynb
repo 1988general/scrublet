{
 "cells": [
  {
   "cell_type": "code",
   "execution_count": 1,
   "metadata": {},
   "outputs": [],
   "source": [
    "%matplotlib inline\n",
    "import scrublet as scr\n",
    "import scipy.io\n",
    "import matplotlib.pyplot as plt\n",
    "import numpy as np\n",
    "import os\n",
    "import time\n"
   ]
  },
  {
   "cell_type": "markdown",
   "metadata": {},
   "source": [
    "#### Download 8k PBMC data set from 10X Genomics\n",
    "(Only need to do this once)\n",
    "\n",
    "Download raw data by navigating to the following URL in your web browser:\n",
    "http://cf.10xgenomics.com/samples/cell-exp/2.1.0/pbmc8k/pbmc8k_filtered_gene_bc_matrices.tar.gz\n",
    "\n",
    "Or use wget:"
   ]
  },
  {
   "cell_type": "code",
   "execution_count": 2,
   "metadata": {},
   "outputs": [
    {
     "name": "stdout",
     "output_type": "stream",
     "text": [
      "--2018-07-16 16:49:19--  http://cf.10xgenomics.com/samples/cell-exp/2.1.0/pbmc8k/pbmc8k_filtered_gene_bc_matrices.tar.gz\n",
      "Resolving cf.10xgenomics.com (cf.10xgenomics.com)... 13.33.35.84, 13.33.35.97, 13.33.35.175, ...\n",
      "Connecting to cf.10xgenomics.com (cf.10xgenomics.com)|13.33.35.84|:80... connected.\n",
      "HTTP request sent, awaiting response... 200 OK\n",
      "Length: 37558165 (36M) [application/x-tar]\n",
      "Saving to: ‘pbmc8k_filtered_gene_bc_matrices.tar.gz’\n",
      "\n",
      "pbmc8k_filtered_gen 100%[===================>]  35.82M  7.21MB/s    in 6.4s    \n",
      "\n",
      "2018-07-16 16:49:25 (5.60 MB/s) - ‘pbmc8k_filtered_gene_bc_matrices.tar.gz’ saved [37558165/37558165]\n",
      "\n"
     ]
    }
   ],
   "source": [
    "!wget http://cf.10xgenomics.com/samples/cell-exp/2.1.0/pbmc8k/pbmc8k_filtered_gene_bc_matrices.tar.gz"
   ]
  },
  {
   "cell_type": "markdown",
   "metadata": {},
   "source": [
    "Uncompress:"
   ]
  },
  {
   "cell_type": "code",
   "execution_count": 3,
   "metadata": {},
   "outputs": [],
   "source": [
    "!tar xfz pbmc8k_filtered_gene_bc_matrices.tar.gz"
   ]
  },
  {
   "cell_type": "markdown",
   "metadata": {},
   "source": [
    "#### Load counts matrix and gene list\n",
    "The first time this is run, the counts matrix is loaded from the mtx file. An npz file is saved for fast loading in the future."
   ]
  },
  {
   "cell_type": "code",
   "execution_count": 4,
   "metadata": {},
   "outputs": [
    {
     "name": "stdout",
     "output_type": "stream",
     "text": [
      "Expression matrix shape: 8381 rows, 33694 columns\n",
      "Number of genes in gene list: 33694\n"
     ]
    }
   ],
   "source": [
    "input_dir = 'filtered_gene_bc_matrices/GRCh38/'\n",
    "\n",
    "# The raw counts matrix (E) should be a scipy sparse CSC matrix\n",
    "# with cells as rows and genes as columns\n",
    "\n",
    "if os.path.isfile(input_dir + '/matrix.npz'):\n",
    "    E = scipy.sparse.load_npz(input_dir + '/matrix.npz')\n",
    "else:\n",
    "    E = scipy.io.mmread(input_dir + '/matrix.mtx').T.tocsc()\n",
    "    scipy.sparse.save_npz(input_dir + '/matrix.npz', E, compressed=True)\n",
    "\n",
    "genes = np.array(scr.load_genes(input_dir + 'genes.tsv', delimiter='\\t', column=1))\n",
    "\n",
    "print('Expression matrix shape: {} rows, {} columns'.format(E.shape[0], E.shape[1]))\n",
    "print('Number of genes in gene list: {}'.format(len(genes)))"
   ]
  },
  {
   "cell_type": "markdown",
   "metadata": {},
   "source": [
    "#### Check that the distribution of total counts per cell looks reasonable (i.e., background has been filtered out)\n"
   ]
  },
  {
   "cell_type": "code",
   "execution_count": 5,
   "metadata": {},
   "outputs": [
    {
     "data": {
      "text/plain": [
       "Text(0,0.5,'Number of cells')"
      ]
     },
     "execution_count": 5,
     "metadata": {},
     "output_type": "execute_result"
    },
    {
     "data": {
      "image/png": "[encoded data removed]",
      "text/plain": [
       "<Figure size 360x216 with 1 Axes>"
      ]
     },
     "metadata": {},
     "output_type": "display_data"
    }
   ],
   "source": [
    "total_counts = E.sum(1).A.squeeze()\n",
    "\n",
    "fig, ax = plt.subplots(figsize = (5, 3))\n",
    "ax.hist(total_counts, bins = np.logspace(3, 5, 40))\n",
    "ax.set_xscale('log')\n",
    "ax.set_xlabel('Total counts')\n",
    "ax.set_ylabel('Number of cells')\n"
   ]
  },
  {
   "cell_type": "markdown",
   "metadata": {},
   "source": [
    "#### Calculate doublet scores\n"
   ]
  },
  {
   "cell_type": "code",
   "execution_count": 6,
   "metadata": {},
   "outputs": [
    {
     "name": "stdout",
     "output_type": "stream",
     "text": [
      "Simulating doublets\n",
      "Total counts normalizing\n",
      "Finding highly variable genes\n",
      "Filtering genes from 33694 to 1697\n",
      "Applying z-score normalization\n",
      "Running PCA\n",
      "Building kNN graph and calculating doublet scores\n",
      "Elapsed time: 19.0 seconds\n"
     ]
    }
   ],
   "source": [
    "# filtering/preprocessing parameters:\n",
    "min_counts = 2\n",
    "min_cells = 3\n",
    "vscore_percentile = 85\n",
    "n_pc = 30\n",
    "\n",
    "# doublet detector parameters:\n",
    "expected_doublet_rate = 0.06 \n",
    "sim_doublet_ratio = 3\n",
    "n_neighbors = 50\n",
    "\n",
    "t0 = time.time()\n",
    "\n",
    "scrublet_results = scr.compute_doublet_scores(\n",
    "    E, \n",
    "    min_counts = min_counts, \n",
    "    min_cells = min_cells, \n",
    "    vscore_percentile = vscore_percentile, \n",
    "    n_prin_comps = n_pc,\n",
    "    scaling_method = 'zscore',\n",
    "    expected_doublet_rate = expected_doublet_rate,\n",
    "    sim_doublet_ratio = sim_doublet_ratio,\n",
    "    n_neighbors = n_neighbors, \n",
    "    use_approx_neighbors = True, \n",
    "    get_doublet_neighbor_parents = False\n",
    ")\n",
    "\n",
    "\n",
    "t1 = time.time()\n",
    "print('Elapsed time: {:.1f} seconds'.format(t1 - t0))"
   ]
  },
  {
   "cell_type": "markdown",
   "metadata": {},
   "source": [
    "#### Get UMAP embedding to help visualize the results"
   ]
  },
  {
   "cell_type": "code",
   "execution_count": 7,
   "metadata": {},
   "outputs": [],
   "source": [
    "# UMAP: https://github.com/lmcinnes/umap\n",
    "import umap\n",
    "\n",
    "embedding = umap.UMAP(n_neighbors=10).fit_transform(scrublet_results['pca_observed_cells'])\n"
   ]
  },
  {
   "cell_type": "markdown",
   "metadata": {},
   "source": [
    "#### Set doublet score threshold and visualize results\n",
    "To call doublets, manually set a threshold between the two peaks of the simulated doublet histogram."
   ]
  },
  {
   "cell_type": "code",
   "execution_count": 8,
   "metadata": {},
   "outputs": [
    {
     "name": "stdout",
     "output_type": "stream",
     "text": [
      "349/8381 = 4.2% of cells are predicted doublets.\n",
      "60.0% of doublets are predicted to be detectable.\n",
      "Predicted overall doublet rate = 6.9%\n"
     ]
    },
    {
     "data": {
      "image/png": "[encoded data removed]",
      "text/plain": [
       "<Figure size 576x432 with 4 Axes>"
      ]
     },
     "metadata": {},
     "output_type": "display_data"
    }
   ],
   "source": [
    "score_threshold = 0.25\n",
    "\n",
    "fig, axs = scr.plot_scrublet_results(embedding, \n",
    "                                     scrublet_results['doublet_scores_observed_cells'], \n",
    "                                     scrublet_results['doublet_scores_simulated_doublets'], \n",
    "                                     score_threshold, \n",
    "                                     order_points = True, \n",
    "                                     marker_size = 4)\n"
   ]
  }
 ],
 "metadata": {
  "kernelspec": {
   "display_name": "Python 3",
   "language": "python",
   "name": "python3"
  },
  "language_info": {
   "codemirror_mode": {
    "name": "ipython",
    "version": 3
   },
   "file_extension": ".py",
   "mimetype": "text/x-python",
   "name": "python",
   "nbconvert_exporter": "python",
   "pygments_lexer": "ipython3",
   "version": "3.6.4"
  }
 },
 "nbformat": 4,
 "nbformat_minor": 2
}
